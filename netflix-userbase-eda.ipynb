{
 "cells": [
  {
   "cell_type": "code",
   "execution_count": 1,
   "id": "cab21517",
   "metadata": {
    "_cell_guid": "b1076dfc-b9ad-4769-8c92-a6c4dae69d19",
    "_uuid": "8f2839f25d086af736a60e9eeb907d3b93b6e0e5",
    "execution": {
     "iopub.execute_input": "2023-07-11T14:47:24.014415Z",
     "iopub.status.busy": "2023-07-11T14:47:24.013614Z",
     "iopub.status.idle": "2023-07-11T14:47:24.033361Z",
     "shell.execute_reply": "2023-07-11T14:47:24.032202Z"
    },
    "papermill": {
     "duration": 0.030167,
     "end_time": "2023-07-11T14:47:24.035763",
     "exception": false,
     "start_time": "2023-07-11T14:47:24.005596",
     "status": "completed"
    },
    "tags": []
   },
   "outputs": [
    {
     "name": "stdout",
     "output_type": "stream",
     "text": [
      "/kaggle/input/netflix-userbase-dataset/Netflix Userbase.csv\n"
     ]
    }
   ],
   "source": [
    "# This Python 3 environment comes with many helpful analytics libraries installed\n",
    "# It is defined by the kaggle/python Docker image: https://github.com/kaggle/docker-python\n",
    "# For example, here's several helpful packages to load\n",
    "\n",
    "import numpy as np # linear algebra\n",
    "import pandas as pd # data processing, CSV file I/O (e.g. pd.read_csv)\n",
    "import matplotlib.pyplot as plt # plotting graphs and charts.\n",
    "\n",
    "# Input data files are available in the read-only \"../input/\" directory\n",
    "# For example, running this (by clicking run or pressing Shift+Enter) will list all files under the input directory\n",
    "\n",
    "import os\n",
    "for dirname, _, filenames in os.walk('/kaggle/input'):\n",
    "    for filename in filenames:\n",
    "        print(os.path.join(dirname, filename))\n",
    "\n",
    "# You can write up to 20GB to the current directory (/kaggle/working/) that gets preserved as output when you create a version using \"Save & Run All\" \n",
    "# You can also write temporary files to /kaggle/temp/, but they won't be saved outside of the current session"
   ]
  },
  {
   "cell_type": "markdown",
   "id": "233abd52",
   "metadata": {
    "papermill": {
     "duration": 0.00501,
     "end_time": "2023-07-11T14:47:24.046308",
     "exception": false,
     "start_time": "2023-07-11T14:47:24.041298",
     "status": "completed"
    },
    "tags": []
   },
   "source": [
    "To Read the CSV file from the Kaggle database\n"
   ]
  },
  {
   "cell_type": "code",
   "execution_count": 2,
   "id": "d5c5eeea",
   "metadata": {
    "execution": {
     "iopub.execute_input": "2023-07-11T14:47:24.058886Z",
     "iopub.status.busy": "2023-07-11T14:47:24.058481Z",
     "iopub.status.idle": "2023-07-11T14:47:24.127693Z",
     "shell.execute_reply": "2023-07-11T14:47:24.126926Z"
    },
    "papermill": {
     "duration": 0.078149,
     "end_time": "2023-07-11T14:47:24.129732",
     "exception": false,
     "start_time": "2023-07-11T14:47:24.051583",
     "status": "completed"
    },
    "tags": []
   },
   "outputs": [
    {
     "data": {
      "text/html": [
       "<div>\n",
       "<style scoped>\n",
       "    .dataframe tbody tr th:only-of-type {\n",
       "        vertical-align: middle;\n",
       "    }\n",
       "\n",
       "    .dataframe tbody tr th {\n",
       "        vertical-align: top;\n",
       "    }\n",
       "\n",
       "    .dataframe thead th {\n",
       "        text-align: right;\n",
       "    }\n",
       "</style>\n",
       "<table border=\"1\" class=\"dataframe\">\n",
       "  <thead>\n",
       "    <tr style=\"text-align: right;\">\n",
       "      <th></th>\n",
       "      <th>User ID</th>\n",
       "      <th>Subscription Type</th>\n",
       "      <th>Monthly Revenue</th>\n",
       "      <th>Join Date</th>\n",
       "      <th>Last Payment Date</th>\n",
       "      <th>Country</th>\n",
       "      <th>Age</th>\n",
       "      <th>Gender</th>\n",
       "      <th>Device</th>\n",
       "      <th>Plan Duration</th>\n",
       "    </tr>\n",
       "  </thead>\n",
       "  <tbody>\n",
       "    <tr>\n",
       "      <th>0</th>\n",
       "      <td>1</td>\n",
       "      <td>Basic</td>\n",
       "      <td>10</td>\n",
       "      <td>15-01-22</td>\n",
       "      <td>10-06-23</td>\n",
       "      <td>United States</td>\n",
       "      <td>28</td>\n",
       "      <td>Male</td>\n",
       "      <td>Smartphone</td>\n",
       "      <td>1 Month</td>\n",
       "    </tr>\n",
       "    <tr>\n",
       "      <th>1</th>\n",
       "      <td>2</td>\n",
       "      <td>Premium</td>\n",
       "      <td>15</td>\n",
       "      <td>05-09-21</td>\n",
       "      <td>22-06-23</td>\n",
       "      <td>Canada</td>\n",
       "      <td>35</td>\n",
       "      <td>Female</td>\n",
       "      <td>Tablet</td>\n",
       "      <td>1 Month</td>\n",
       "    </tr>\n",
       "    <tr>\n",
       "      <th>2</th>\n",
       "      <td>3</td>\n",
       "      <td>Standard</td>\n",
       "      <td>12</td>\n",
       "      <td>28-02-23</td>\n",
       "      <td>27-06-23</td>\n",
       "      <td>United Kingdom</td>\n",
       "      <td>42</td>\n",
       "      <td>Male</td>\n",
       "      <td>Smart TV</td>\n",
       "      <td>1 Month</td>\n",
       "    </tr>\n",
       "    <tr>\n",
       "      <th>3</th>\n",
       "      <td>4</td>\n",
       "      <td>Standard</td>\n",
       "      <td>12</td>\n",
       "      <td>10-07-22</td>\n",
       "      <td>26-06-23</td>\n",
       "      <td>Australia</td>\n",
       "      <td>51</td>\n",
       "      <td>Female</td>\n",
       "      <td>Laptop</td>\n",
       "      <td>1 Month</td>\n",
       "    </tr>\n",
       "    <tr>\n",
       "      <th>4</th>\n",
       "      <td>5</td>\n",
       "      <td>Basic</td>\n",
       "      <td>10</td>\n",
       "      <td>01-05-23</td>\n",
       "      <td>28-06-23</td>\n",
       "      <td>Germany</td>\n",
       "      <td>33</td>\n",
       "      <td>Male</td>\n",
       "      <td>Smartphone</td>\n",
       "      <td>1 Month</td>\n",
       "    </tr>\n",
       "    <tr>\n",
       "      <th>...</th>\n",
       "      <td>...</td>\n",
       "      <td>...</td>\n",
       "      <td>...</td>\n",
       "      <td>...</td>\n",
       "      <td>...</td>\n",
       "      <td>...</td>\n",
       "      <td>...</td>\n",
       "      <td>...</td>\n",
       "      <td>...</td>\n",
       "      <td>...</td>\n",
       "    </tr>\n",
       "    <tr>\n",
       "      <th>2495</th>\n",
       "      <td>2496</td>\n",
       "      <td>Premium</td>\n",
       "      <td>14</td>\n",
       "      <td>25-07-22</td>\n",
       "      <td>12-07-23</td>\n",
       "      <td>Spain</td>\n",
       "      <td>28</td>\n",
       "      <td>Female</td>\n",
       "      <td>Smart TV</td>\n",
       "      <td>1 Month</td>\n",
       "    </tr>\n",
       "    <tr>\n",
       "      <th>2496</th>\n",
       "      <td>2497</td>\n",
       "      <td>Basic</td>\n",
       "      <td>15</td>\n",
       "      <td>04-08-22</td>\n",
       "      <td>14-07-23</td>\n",
       "      <td>Spain</td>\n",
       "      <td>33</td>\n",
       "      <td>Female</td>\n",
       "      <td>Smart TV</td>\n",
       "      <td>1 Month</td>\n",
       "    </tr>\n",
       "    <tr>\n",
       "      <th>2497</th>\n",
       "      <td>2498</td>\n",
       "      <td>Standard</td>\n",
       "      <td>12</td>\n",
       "      <td>09-08-22</td>\n",
       "      <td>15-07-23</td>\n",
       "      <td>United States</td>\n",
       "      <td>38</td>\n",
       "      <td>Male</td>\n",
       "      <td>Laptop</td>\n",
       "      <td>1 Month</td>\n",
       "    </tr>\n",
       "    <tr>\n",
       "      <th>2498</th>\n",
       "      <td>2499</td>\n",
       "      <td>Standard</td>\n",
       "      <td>13</td>\n",
       "      <td>12-08-22</td>\n",
       "      <td>12-07-23</td>\n",
       "      <td>Canada</td>\n",
       "      <td>48</td>\n",
       "      <td>Female</td>\n",
       "      <td>Tablet</td>\n",
       "      <td>1 Month</td>\n",
       "    </tr>\n",
       "    <tr>\n",
       "      <th>2499</th>\n",
       "      <td>2500</td>\n",
       "      <td>Basic</td>\n",
       "      <td>15</td>\n",
       "      <td>13-08-22</td>\n",
       "      <td>12-07-23</td>\n",
       "      <td>United States</td>\n",
       "      <td>35</td>\n",
       "      <td>Female</td>\n",
       "      <td>Smart TV</td>\n",
       "      <td>1 Month</td>\n",
       "    </tr>\n",
       "  </tbody>\n",
       "</table>\n",
       "<p>2500 rows × 10 columns</p>\n",
       "</div>"
      ],
      "text/plain": [
       "      User ID Subscription Type  Monthly Revenue Join Date Last Payment Date  \\\n",
       "0           1             Basic               10  15-01-22          10-06-23   \n",
       "1           2           Premium               15  05-09-21          22-06-23   \n",
       "2           3          Standard               12  28-02-23          27-06-23   \n",
       "3           4          Standard               12  10-07-22          26-06-23   \n",
       "4           5             Basic               10  01-05-23          28-06-23   \n",
       "...       ...               ...              ...       ...               ...   \n",
       "2495     2496           Premium               14  25-07-22          12-07-23   \n",
       "2496     2497             Basic               15  04-08-22          14-07-23   \n",
       "2497     2498          Standard               12  09-08-22          15-07-23   \n",
       "2498     2499          Standard               13  12-08-22          12-07-23   \n",
       "2499     2500             Basic               15  13-08-22          12-07-23   \n",
       "\n",
       "             Country  Age  Gender      Device Plan Duration  \n",
       "0      United States   28    Male  Smartphone       1 Month  \n",
       "1             Canada   35  Female      Tablet       1 Month  \n",
       "2     United Kingdom   42    Male    Smart TV       1 Month  \n",
       "3          Australia   51  Female      Laptop       1 Month  \n",
       "4            Germany   33    Male  Smartphone       1 Month  \n",
       "...              ...  ...     ...         ...           ...  \n",
       "2495           Spain   28  Female    Smart TV       1 Month  \n",
       "2496           Spain   33  Female    Smart TV       1 Month  \n",
       "2497   United States   38    Male      Laptop       1 Month  \n",
       "2498          Canada   48  Female      Tablet       1 Month  \n",
       "2499   United States   35  Female    Smart TV       1 Month  \n",
       "\n",
       "[2500 rows x 10 columns]"
      ]
     },
     "execution_count": 2,
     "metadata": {},
     "output_type": "execute_result"
    }
   ],
   "source": [
    "df=pd.read_csv('/kaggle/input/netflix-userbase-dataset/Netflix Userbase.csv')\n",
    "df"
   ]
  },
  {
   "cell_type": "code",
   "execution_count": 3,
   "id": "69e4e6d5",
   "metadata": {
    "execution": {
     "iopub.execute_input": "2023-07-11T14:47:24.143195Z",
     "iopub.status.busy": "2023-07-11T14:47:24.142368Z",
     "iopub.status.idle": "2023-07-11T14:47:24.147851Z",
     "shell.execute_reply": "2023-07-11T14:47:24.147158Z"
    },
    "papermill": {
     "duration": 0.014341,
     "end_time": "2023-07-11T14:47:24.149808",
     "exception": false,
     "start_time": "2023-07-11T14:47:24.135467",
     "status": "completed"
    },
    "tags": []
   },
   "outputs": [
    {
     "data": {
      "text/plain": [
       "(2500, 10)"
      ]
     },
     "execution_count": 3,
     "metadata": {},
     "output_type": "execute_result"
    }
   ],
   "source": [
    "df.shape "
   ]
  },
  {
   "cell_type": "code",
   "execution_count": 4,
   "id": "767f2ecc",
   "metadata": {
    "execution": {
     "iopub.execute_input": "2023-07-11T14:47:24.163519Z",
     "iopub.status.busy": "2023-07-11T14:47:24.162901Z",
     "iopub.status.idle": "2023-07-11T14:47:24.172355Z",
     "shell.execute_reply": "2023-07-11T14:47:24.171429Z"
    },
    "papermill": {
     "duration": 0.018548,
     "end_time": "2023-07-11T14:47:24.174406",
     "exception": false,
     "start_time": "2023-07-11T14:47:24.155858",
     "status": "completed"
    },
    "tags": []
   },
   "outputs": [
    {
     "data": {
      "text/plain": [
       "Basic       999\n",
       "Standard    768\n",
       "Premium     733\n",
       "Name: Subscription Type, dtype: int64"
      ]
     },
     "execution_count": 4,
     "metadata": {},
     "output_type": "execute_result"
    }
   ],
   "source": [
    "count_ = df[\"Subscription Type\"].value_counts()\n",
    "count_"
   ]
  },
  {
   "cell_type": "code",
   "execution_count": 5,
   "id": "1136b3b8",
   "metadata": {
    "execution": {
     "iopub.execute_input": "2023-07-11T14:47:24.188986Z",
     "iopub.status.busy": "2023-07-11T14:47:24.188324Z",
     "iopub.status.idle": "2023-07-11T14:47:24.374539Z",
     "shell.execute_reply": "2023-07-11T14:47:24.373086Z"
    },
    "papermill": {
     "duration": 0.198101,
     "end_time": "2023-07-11T14:47:24.378747",
     "exception": false,
     "start_time": "2023-07-11T14:47:24.180646",
     "status": "completed"
    },
    "tags": []
   },
   "outputs": [
    {
     "data": {
      "text/plain": [
       "<function matplotlib.pyplot.show(close=None, block=None)>"
      ]
     },
     "execution_count": 5,
     "metadata": {},
     "output_type": "execute_result"
    },
    {
     "data": {
      "image/png": "[encoded data removed]",
      "text/plain": [
       "<Figure size 640x480 with 1 Axes>"
      ]
     },
     "metadata": {},
     "output_type": "display_data"
    }
   ],
   "source": [
    "plt.pie(count_,labels=count_.index,autopct='%.0f%%')\n",
    "plt.title(\"subscription type\")\n",
    "plt.show"
   ]
  },
  {
   "cell_type": "code",
   "execution_count": 6,
   "id": "9529108e",
   "metadata": {
    "execution": {
     "iopub.execute_input": "2023-07-11T14:47:24.411194Z",
     "iopub.status.busy": "2023-07-11T14:47:24.410065Z",
     "iopub.status.idle": "2023-07-11T14:47:24.422804Z",
     "shell.execute_reply": "2023-07-11T14:47:24.422082Z"
    },
    "papermill": {
     "duration": 0.030419,
     "end_time": "2023-07-11T14:47:24.424799",
     "exception": false,
     "start_time": "2023-07-11T14:47:24.394380",
     "status": "completed"
    },
    "tags": []
   },
   "outputs": [
    {
     "data": {
      "text/plain": [
       "Laptop        636\n",
       "Tablet        633\n",
       "Smartphone    621\n",
       "Smart TV      610\n",
       "Name: Device, dtype: int64"
      ]
     },
     "execution_count": 6,
     "metadata": {},
     "output_type": "execute_result"
    }
   ],
   "source": [
    "count_devices=df['Device'].value_counts()\n",
    "count_devices"
   ]
  },
  {
   "cell_type": "code",
   "execution_count": 7,
   "id": "006d26e5",
   "metadata": {
    "execution": {
     "iopub.execute_input": "2023-07-11T14:47:24.440801Z",
     "iopub.status.busy": "2023-07-11T14:47:24.440051Z",
     "iopub.status.idle": "2023-07-11T14:47:24.601648Z",
     "shell.execute_reply": "2023-07-11T14:47:24.600242Z"
    },
    "papermill": {
     "duration": 0.174141,
     "end_time": "2023-07-11T14:47:24.605944",
     "exception": false,
     "start_time": "2023-07-11T14:47:24.431803",
     "status": "completed"
    },
    "tags": []
   },
   "outputs": [
    {
     "data": {
      "text/plain": [
       "<function matplotlib.pyplot.show(close=None, block=None)>"
      ]
     },
     "execution_count": 7,
     "metadata": {},
     "output_type": "execute_result"
    },
    {
     "data": {
      "image/png": "[encoded data removed]",
      "text/plain": [
       "<Figure size 640x480 with 1 Axes>"
      ]
     },
     "metadata": {},
     "output_type": "display_data"
    }
   ],
   "source": [
    "plt.pie(count_devices,labels=count_devices.index,autopct='%1.1f%%')\n",
    "plt.title(\"Type of device used\")\n",
    "plt.show"
   ]
  },
  {
   "cell_type": "markdown",
   "id": "3b5efd6c",
   "metadata": {
    "papermill": {
     "duration": 0.014973,
     "end_time": "2023-07-11T14:47:24.638302",
     "exception": false,
     "start_time": "2023-07-11T14:47:24.623329",
     "status": "completed"
    },
    "tags": []
   },
   "source": [
    "Types of devices pie chart shows that there is approximatiely even distribution for all the devices used by the user "
   ]
  },
  {
   "cell_type": "markdown",
   "id": "96803567",
   "metadata": {
    "papermill": {
     "duration": 0.008311,
     "end_time": "2023-07-11T14:47:24.661916",
     "exception": false,
     "start_time": "2023-07-11T14:47:24.653605",
     "status": "completed"
    },
    "tags": []
   },
   "source": [
    "Coverting join date and last payment date from object to datetime64"
   ]
  },
  {
   "cell_type": "code",
   "execution_count": 8,
   "id": "188b92bc",
   "metadata": {
    "execution": {
     "iopub.execute_input": "2023-07-11T14:47:24.678335Z",
     "iopub.status.busy": "2023-07-11T14:47:24.677908Z",
     "iopub.status.idle": "2023-07-11T14:47:24.897546Z",
     "shell.execute_reply": "2023-07-11T14:47:24.896663Z"
    },
    "papermill": {
     "duration": 0.230592,
     "end_time": "2023-07-11T14:47:24.899930",
     "exception": false,
     "start_time": "2023-07-11T14:47:24.669338",
     "status": "completed"
    },
    "tags": []
   },
   "outputs": [],
   "source": [
    "df['Join Date']=pd.to_datetime(df['Join Date'])\n",
    "df['Last Payment Date']=pd.to_datetime(df['Last Payment Date'])\n",
    "\n"
   ]
  },
  {
   "cell_type": "code",
   "execution_count": 9,
   "id": "576eb47f",
   "metadata": {
    "execution": {
     "iopub.execute_input": "2023-07-11T14:47:24.916997Z",
     "iopub.status.busy": "2023-07-11T14:47:24.916268Z",
     "iopub.status.idle": "2023-07-11T14:47:24.935144Z",
     "shell.execute_reply": "2023-07-11T14:47:24.934208Z"
    },
    "papermill": {
     "duration": 0.029972,
     "end_time": "2023-07-11T14:47:24.937517",
     "exception": false,
     "start_time": "2023-07-11T14:47:24.907545",
     "status": "completed"
    },
    "tags": []
   },
   "outputs": [
    {
     "name": "stdout",
     "output_type": "stream",
     "text": [
      "<class 'pandas.core.frame.DataFrame'>\n",
      "RangeIndex: 2500 entries, 0 to 2499\n",
      "Data columns (total 10 columns):\n",
      " #   Column             Non-Null Count  Dtype         \n",
      "---  ------             --------------  -----         \n",
      " 0   User ID            2500 non-null   int64         \n",
      " 1   Subscription Type  2500 non-null   object        \n",
      " 2   Monthly Revenue    2500 non-null   int64         \n",
      " 3   Join Date          2500 non-null   datetime64[ns]\n",
      " 4   Last Payment Date  2500 non-null   datetime64[ns]\n",
      " 5   Country            2500 non-null   object        \n",
      " 6   Age                2500 non-null   int64         \n",
      " 7   Gender             2500 non-null   object        \n",
      " 8   Device             2500 non-null   object        \n",
      " 9   Plan Duration      2500 non-null   object        \n",
      "dtypes: datetime64[ns](2), int64(3), object(5)\n",
      "memory usage: 195.4+ KB\n"
     ]
    }
   ],
   "source": [
    "df.info()"
   ]
  },
  {
   "cell_type": "markdown",
   "id": "a75a6071",
   "metadata": {
    "papermill": {
     "duration": 0.007325,
     "end_time": "2023-07-11T14:47:24.952497",
     "exception": false,
     "start_time": "2023-07-11T14:47:24.945172",
     "status": "completed"
    },
    "tags": []
   },
   "source": [
    "Number of subscriber from different countries"
   ]
  },
  {
   "cell_type": "code",
   "execution_count": 10,
   "id": "043b5357",
   "metadata": {
    "execution": {
     "iopub.execute_input": "2023-07-11T14:47:24.968981Z",
     "iopub.status.busy": "2023-07-11T14:47:24.968591Z",
     "iopub.status.idle": "2023-07-11T14:47:24.979964Z",
     "shell.execute_reply": "2023-07-11T14:47:24.978891Z"
    },
    "papermill": {
     "duration": 0.022213,
     "end_time": "2023-07-11T14:47:24.982192",
     "exception": false,
     "start_time": "2023-07-11T14:47:24.959979",
     "status": "completed"
    },
    "tags": []
   },
   "outputs": [
    {
     "name": "stdout",
     "output_type": "stream",
     "text": [
      "United States     451\n",
      "Spain             451\n",
      "Canada            317\n",
      "United Kingdom    183\n",
      "Australia         183\n",
      "Germany           183\n",
      "France            183\n",
      "Brazil            183\n",
      "Mexico            183\n",
      "Italy             183\n",
      "Name: Country, dtype: int64\n"
     ]
    },
    {
     "data": {
      "text/plain": [
       "array(['United States', 'Canada', 'United Kingdom', 'Australia',\n",
       "       'Germany', 'France', 'Brazil', 'Mexico', 'Spain', 'Italy'],\n",
       "      dtype=object)"
      ]
     },
     "execution_count": 10,
     "metadata": {},
     "output_type": "execute_result"
    }
   ],
   "source": [
    "frequence = df.Country.value_counts()\n",
    "print(frequence)\n",
    "country=df['Country'].unique()\n",
    "country"
   ]
  },
  {
   "cell_type": "code",
   "execution_count": 11,
   "id": "ae6894b0",
   "metadata": {
    "execution": {
     "iopub.execute_input": "2023-07-11T14:47:24.999847Z",
     "iopub.status.busy": "2023-07-11T14:47:24.999474Z",
     "iopub.status.idle": "2023-07-11T14:47:25.295990Z",
     "shell.execute_reply": "2023-07-11T14:47:25.294839Z"
    },
    "papermill": {
     "duration": 0.308321,
     "end_time": "2023-07-11T14:47:25.298367",
     "exception": false,
     "start_time": "2023-07-11T14:47:24.990046",
     "status": "completed"
    },
    "tags": []
   },
   "outputs": [
    {
     "data": {
      "text/plain": [
       "<function matplotlib.pyplot.show(close=None, block=None)>"
      ]
     },
     "execution_count": 11,
     "metadata": {},
     "output_type": "execute_result"
    },
    {
     "data": {
      "image/png": "[encoded data removed]",
      "text/plain": [
       "<Figure size 640x480 with 1 Axes>"
      ]
     },
     "metadata": {},
     "output_type": "display_data"
    }
   ],
   "source": [
    "plt.barh(country,frequence)\n",
    "plt.xlabel('No of Subscriber')\n",
    "plt.ylabel('Country')\n",
    "plt.show"
   ]
  },
  {
   "cell_type": "code",
   "execution_count": null,
   "id": "7e9ae86a",
   "metadata": {
    "papermill": {
     "duration": 0.00799,
     "end_time": "2023-07-11T14:47:25.316159",
     "exception": false,
     "start_time": "2023-07-11T14:47:25.308169",
     "status": "completed"
    },
    "tags": []
   },
   "outputs": [],
   "source": []
  }
 ],
 "metadata": {
  "kernelspec": {
   "display_name": "Python 3",
   "language": "python",
   "name": "python3"
  },
  "language_info": {
   "codemirror_mode": {
    "name": "ipython",
    "version": 3
   },
   "file_extension": ".py",
   "mimetype": "text/x-python",
   "name": "python",
   "nbconvert_exporter": "python",
   "pygments_lexer": "ipython3",
   "version": "3.10.10"
  },
  "papermill": {
   "default_parameters": {},
   "duration": 14.539888,
   "end_time": "2023-07-11T14:47:26.147391",
   "environment_variables": {},
   "exception": null,
   "input_path": "__notebook__.ipynb",
   "output_path": "__notebook__.ipynb",
   "parameters": {},
   "start_time": "2023-07-11T14:47:11.607503",
   "version": "2.4.0"
  }
 },
 "nbformat": 4,
 "nbformat_minor": 5
}
